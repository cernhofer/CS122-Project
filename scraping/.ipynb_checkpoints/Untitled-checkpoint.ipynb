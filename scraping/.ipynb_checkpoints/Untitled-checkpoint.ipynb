{
 "cells": [
  {
   "cell_type": "code",
   "execution_count": 1,
   "metadata": {
    "collapsed": true
   },
   "outputs": [],
   "source": [
    "import os\n",
    "import requests\n",
    "import bs4\n",
    "import html5lib\n",
    "import re\n",
    "from sklearn.feature_extraction.text import CountVectorizer\n",
    "from sklearn.metrics.pairwise import cosine_similarity\n",
    "from sklearn.feature_extraction.text import TfidfVectorizer\n",
    "import time\n"
   ]
  },
  {
   "cell_type": "code",
   "execution_count": 36,
   "metadata": {
    "collapsed": false
   },
   "outputs": [],
   "source": [
    "TWITTER_WORDS = 'twitter hashtag trending tweeted tweet'\n",
    "key_words = 'trump womens tweeted'\n",
    "twitter = True\n",
    "\n",
    "text1 = 'By rejecting his nomination, the Commission on Appointments (CA) effectively fired Yasay, throwing the Philippines’ diplomatic leadership into turmoil at an important time for the country, which holds the rotating chair of the Association of Southeast Asian Nations (Asean).'\n",
    "text2 = 'While Mr Obama has kept a relatively low profile since leaving office, aides told The Wall Street Journal that Mr Trumps accusation - which he made without producing any evidence to back up his claim - has crossed a boundary because it questioned the former leaders integrity and that of the office of president itself. '\n",
    "text3 = 'President Donald Trump tweeted a message of support for International Women’s Day on Wednesday. It didn’t go down well.'\n",
    "\n",
    "link1 = 'google.ca'\n",
    "link2 = 'google.com'\n",
    "link3 = 'aol.com'\n",
    "\n",
    "title1 = 'random title'\n",
    "title2 = 'Obamagate'\n",
    "title3 = 'trump and womens day'\n"
   ]
  },
  {
   "cell_type": "code",
   "execution_count": 37,
   "metadata": {
    "collapsed": false
   },
   "outputs": [
    {
     "name": "stdout",
     "output_type": "stream",
     "text": [
      "[]\n"
     ]
    },
    {
     "ename": "IndexError",
     "evalue": "list index out of range",
     "output_type": "error",
     "traceback": [
      "\u001b[0;31m---------------------------------------------------------------------------\u001b[0m",
      "\u001b[0;31mIndexError\u001b[0m                                Traceback (most recent call last)",
      "\u001b[0;32m<ipython-input-37-7fc23c277735>\u001b[0m in \u001b[0;36m<module>\u001b[0;34m()\u001b[0m\n\u001b[1;32m     35\u001b[0m \u001b[0;34m\u001b[0m\u001b[0m\n\u001b[1;32m     36\u001b[0m \u001b[0;34m\u001b[0m\u001b[0m\n\u001b[0;32m---> 37\u001b[0;31m \u001b[0mprint\u001b[0m\u001b[0;34m(\u001b[0m\u001b[0;34m\"FINAL FINAL FINAL\"\u001b[0m\u001b[0;34m,\u001b[0m \u001b[0mfinal_list\u001b[0m\u001b[0;34m[\u001b[0m\u001b[0;36m0\u001b[0m\u001b[0;34m]\u001b[0m\u001b[0;34m[\u001b[0m\u001b[0;36m0\u001b[0m\u001b[0;34m]\u001b[0m\u001b[0;34m,\u001b[0m \u001b[0mfinal_list\u001b[0m\u001b[0;34m[\u001b[0m\u001b[0;36m0\u001b[0m\u001b[0;34m]\u001b[0m\u001b[0;34m[\u001b[0m\u001b[0;36m1\u001b[0m\u001b[0;34m]\u001b[0m\u001b[0;34m)\u001b[0m\u001b[0;34m\u001b[0m\u001b[0m\n\u001b[0m",
      "\u001b[0;31mIndexError\u001b[0m: list index out of range"
     ]
    }
   ],
   "source": [
    "def get_tf_matrix(tf_set):\n",
    "    tf_idf_vectorizer = TfidfVectorizer()\n",
    "    return tf_idf_vectorizer.fit_transform(tf_set)\n",
    "\n",
    "news_links = [[title1, link1], [title2, link2], [title3, link3]]\n",
    "\n",
    "\n",
    "cwords_matrix = get_tf_matrix([key_words, text1, text2, text3])\n",
    "cwords_val = cosine_similarity(cwords_matrix[0:1], cwords_matrix)\n",
    "\n",
    "\n",
    "if key_words in text3:\n",
    "    print(\"WORKED\")\n",
    "\n",
    "    twitter_matrix = get_tf_matrix([TWITTER_WORDS, text1, text2, text3])\n",
    "    twitter_val = cosine_similarity(twitter_matrix[0:1], twitter_matrix)\n",
    "\n",
    "\n",
    "    final_list = []\n",
    "    print(twitter_val)\n",
    "    print(cwords_val)\n",
    "\n",
    "    for i in range(len(twitter_val[0])):\n",
    "        if i != 0:\n",
    "            if twitter_val[0][i] < 0.025:\n",
    "                final_list.append((news_links[i-1] + [cwords_val[0][i-1]]))\n",
    "\n",
    "            \n",
    "print(final_list)\n",
    "for thing in final_list:\n",
    "    print(thing)\n",
    "\n",
    "\n",
    "final_list.sort(key=lambda x: x[1])\n",
    "\n",
    "\n",
    "print(\"FINAL FINAL FINAL\", final_list[0][0], final_list[0][1])"
   ]
  },
  {
   "cell_type": "code",
   "execution_count": 38,
   "metadata": {
    "collapsed": false
   },
   "outputs": [
    {
     "name": "stdout",
     "output_type": "stream",
     "text": [
      "['random title', 'google.ca', 1.0]\n",
      "['Obamagate', 'google.com', 0.0]\n",
      "['trump and womens day', 'aol.com', 0.0]\n",
      "\n",
      "\n",
      "\n",
      "FINAL FINAL REAL FINAL  Obamagate google.com\n"
     ]
    }
   ],
   "source": [
    "news_links = [[title1, link1], [title2, link2], [title3, link3]]\n",
    "\n",
    "def get_tf_matrix(tf_set):\n",
    "    tf_idf_vectorizer = TfidfVectorizer()\n",
    "    \n",
    "    return tf_idf_vectorizer.fit_transform(tf_set)\n",
    "\n",
    "def check_tf_idf(doc1, doc2, doc3, terms= TWITTER_WORDS):\n",
    "    matrix = get_tf_matrix([terms, doc1, doc2, doc3])\n",
    "    val = cosine_similarity(matrix[0:1], matrix)\n",
    "\n",
    "    return val\n",
    "\n",
    "final_list = []\n",
    "key_words_val = check_tf_idf(text1, text2, text3, key_words)\n",
    "\n",
    "if not twitter:\n",
    "    twitter_val = check_tf_idf(text1, text2, text3, TWITTER_WORDS)\n",
    "\n",
    "for i in range(len(key_words_val[0])):\n",
    "    if i != 0:\n",
    "        if not twitter:\n",
    "            if twitter_val[0][i] < 0.025:\n",
    "                final_list.append((news_links[i-1] + [cwords_val[0][i-1]]))\n",
    "        else:\n",
    "            final_list.append((news_links[i-1] + [cwords_val[0][i-1]]))\n",
    "\n",
    "for thing in final_list:\n",
    "    print(thing)\n",
    "\n",
    "final_list.sort(key=lambda x: x[2])\n",
    "\n",
    "print('\\n\\n\\nFINAL FINAL REAL FINAL ', final_list[0][0], final_list[0][1])"
   ]
  },
  {
   "cell_type": "code",
   "execution_count": null,
   "metadata": {
    "collapsed": true
   },
   "outputs": [],
   "source": []
  }
 ],
 "metadata": {
  "kernelspec": {
   "display_name": "Python 3",
   "language": "python",
   "name": "python3"
  },
  "language_info": {
   "codemirror_mode": {
    "name": "ipython",
    "version": 3
   },
   "file_extension": ".py",
   "mimetype": "text/x-python",
   "name": "python",
   "nbconvert_exporter": "python",
   "pygments_lexer": "ipython3",
   "version": "3.6.0"
  }
 },
 "nbformat": 4,
 "nbformat_minor": 2
}
